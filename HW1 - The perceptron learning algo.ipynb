{
 "cells": [
  {
   "cell_type": "code",
   "execution_count": 1,
   "metadata": {
    "collapsed": true
   },
   "outputs": [],
   "source": [
    "import tensorflow as tf\n",
    "import random \n",
    "\n",
    "sess = tf.Session()"
   ]
  },
  {
   "cell_type": "code",
   "execution_count": 2,
   "metadata": {
    "collapsed": false
   },
   "outputs": [],
   "source": [
    "# The domain of [-1, 1] x [-1, 1] has only 4 possible target functions\n",
    "# f1(x) = 1\n",
    "# f2(x) = -1\n",
    "# f3(x) = x\n",
    "# f4(x) = -x\n",
    "targets = [tf.constant([1, 0]), tf.constant([-1, 0]), tf.constant([0, 1]), tf.constant([0, -1])]\n"
   ]
  },
  {
   "cell_type": "code",
   "execution_count": 8,
   "metadata": {
    "collapsed": false
   },
   "outputs": [],
   "source": [
    "def calcNumberItersForConvergance(N, TRIALS):\n",
    "    sumIters = 0\n",
    "    sumPErr = 0\n",
    "    for trial in range(TRIALS):\n",
    "\n",
    "        t = random.randint(0,3)\n",
    "        samples = tf.random_uniform([N, 2], 0 , 2, dtype=tf.int32, seed=0)\n",
    "        labels = tf.reduce_sum(tf.mul(samples, targets[t]), 1)\n",
    "\n",
    "        sess.run(labels)\n",
    "        w = tf.Variable(tf.zeros([2], dtype=tf.int32), name=\"weights\")\n",
    "\n",
    "        init = tf.initialize_all_variables() \n",
    "        sess.run(init)\n",
    "\n",
    "        iter = 1\n",
    "        while iter < 7000:\n",
    "            predicts = tf.sign(tf.reduce_sum(tf.mul(samples, w), 1))\n",
    "\n",
    "            diff = tf.sub(labels, predicts)\n",
    "\n",
    "            i = 0\n",
    "            while i < N:\n",
    "                dOp = tf.gather(diff, i)\n",
    "                d = sess.run(dOp)\n",
    "                if d == 0:\n",
    "                    i += 1\n",
    "                else:\n",
    "                    break\n",
    "\n",
    "            if i == N:\n",
    "                break\n",
    "            else:\n",
    "                w = tf.add(w, tf.scalar_mul(tf.gather(labels, i), tf.gather(samples, i)))\n",
    "                weights = sess.run(w)\n",
    "\n",
    "            if iter % 100 == 0:\n",
    "                print(\"iter\", '%06d' % (iter), \" - weights=\", weights)\n",
    "\n",
    "            iter += 1\n",
    "\n",
    "        print(\"Done trial \", '%03d' % trial, \" at iteration:\", '%06d' % (iter), \" - weights=\", weights)\n",
    "        sumIters += iter\n",
    "        \n",
    "        errorsT = tf.reduce_sum(tf.abs(tf.sub(labels, tf.sign(tf.reduce_sum(tf.mul(samples, w), 1)))))\n",
    "        pErrorT = tf.div(tf.to_float(errorsT), N)\n",
    "        errors = sess.run(errorsT)\n",
    "        pError = sess.run(pErrorT)\n",
    "        print(\"Error at trial \", '%03d' % trial, \":\", errors, \" - pError=\", pError)\n",
    "        sumPErr += pError\n",
    "\n",
    "    pMatch = 1 - (sumPErr / TRIALS)\n",
    "    print(\"Done all trials for N=\", '%03d' % (N), \\\n",
    "          \". The average number of iterations for conversion is \", \"{:.9f}\".format(sumIters * 1.0 / TRIALS), \" - weights=\", weights, \\\n",
    "          \". Probability of match: \", pMatch)"
   ]
  },
  {
   "cell_type": "code",
   "execution_count": 6,
   "metadata": {
    "collapsed": false
   },
   "outputs": [
    {
     "name": "stdout",
     "output_type": "stream",
     "text": [
      "Done trial  000  at iteration: 000010  - weights= [1 1]\n",
      "Error at trial  000 : 3  - pError= 0.2\n",
      "Done trial  001  at iteration: 000011  - weights= [2 9]\n",
      "Error at trial  001 : 0  - pError= 0.2\n",
      "Done trial  002  at iteration: 000011  - weights= [-2 -9]\n",
      "Error at trial  002 : 0  - pError= 0.2\n",
      "Done trial  003  at iteration: 000010  - weights= [-1 -1]\n",
      "Error at trial  003 : 3  - pError= 0.2\n",
      "Done trial  004  at iteration: 000010  - weights= [1 1]\n",
      "Error at trial  004 : 3  - pError= 0.2\n",
      "Done trial  005  at iteration: 000010  - weights= [-1 -1]\n",
      "Error at trial  005 : 3  - pError= 0.2\n",
      "Done trial  006  at iteration: 000010  - weights= [1 1]\n",
      "Error at trial  006 : 3  - pError= 0.2\n",
      "Done trial  007  at iteration: 000010  - weights= [-1 -1]\n",
      "Error at trial  007 : 3  - pError= 0.2\n",
      "Done trial  008  at iteration: 000011  - weights= [-2 -9]\n",
      "Error at trial  008 : 0  - pError= 0.2\n",
      "Done trial  009  at iteration: 000011  - weights= [-2 -9]\n",
      "Error at trial  009 : 0  - pError= 0.2\n",
      "Done all trials for N= 010 . The average number of iterations for conversion is  10.400000000  - weights= [-2 -9] . Probability of match:  0.79999999702\n"
     ]
    }
   ],
   "source": [
    "calcNumberItersForConvergance(10, 10)\n",
    "\n",
    "\n",
    "\n"
   ]
  },
  {
   "cell_type": "code",
   "execution_count": 9,
   "metadata": {
    "collapsed": false
   },
   "outputs": [
    {
     "name": "stdout",
     "output_type": "stream",
     "text": [
      "iter 000100  - weights= [54 38]\n",
      "iter 000200  - weights= [127  84]\n",
      "iter 000300  - weights= [136  16]\n",
      "iter 000400  - weights= [149  93]\n",
      "iter 000500  - weights= [255 154]\n",
      "iter 000600  - weights= [367 109]\n",
      "iter 000700  - weights= [150  59]\n",
      "iter 000800  - weights= [516 443]\n",
      "iter 000900  - weights= [122   9]\n",
      "iter 001000  - weights= [161 107]\n",
      "iter 001100  - weights= [867 438]\n",
      "iter 001200  - weights= [381  59]\n",
      "iter 001300  - weights= [851 394]\n"
     ]
    },
    {
     "ename": "KeyboardInterrupt",
     "evalue": "",
     "output_type": "error",
     "traceback": [
      "\u001b[0;31m---------------------------------------------------------------------------\u001b[0m",
      "\u001b[0;31mKeyboardInterrupt\u001b[0m                         Traceback (most recent call last)",
      "\u001b[0;32m<ipython-input-9-339c053887d7>\u001b[0m in \u001b[0;36m<module>\u001b[0;34m()\u001b[0m\n\u001b[0;32m----> 1\u001b[0;31m \u001b[0mcalcNumberItersForConvergance\u001b[0m\u001b[0;34m(\u001b[0m\u001b[0;36m100\u001b[0m\u001b[0;34m,\u001b[0m \u001b[0;36m10\u001b[0m\u001b[0;34m)\u001b[0m\u001b[0;34m\u001b[0m\u001b[0m\n\u001b[0m",
      "\u001b[0;32m<ipython-input-8-ab16b79adfeb>\u001b[0m in \u001b[0;36mcalcNumberItersForConvergance\u001b[0;34m(N, TRIALS)\u001b[0m\n\u001b[1;32m     33\u001b[0m             \u001b[0;32melse\u001b[0m\u001b[0;34m:\u001b[0m\u001b[0;34m\u001b[0m\u001b[0m\n\u001b[1;32m     34\u001b[0m                 \u001b[0mw\u001b[0m \u001b[0;34m=\u001b[0m \u001b[0mtf\u001b[0m\u001b[0;34m.\u001b[0m\u001b[0madd\u001b[0m\u001b[0;34m(\u001b[0m\u001b[0mw\u001b[0m\u001b[0;34m,\u001b[0m \u001b[0mtf\u001b[0m\u001b[0;34m.\u001b[0m\u001b[0mscalar_mul\u001b[0m\u001b[0;34m(\u001b[0m\u001b[0mtf\u001b[0m\u001b[0;34m.\u001b[0m\u001b[0mgather\u001b[0m\u001b[0;34m(\u001b[0m\u001b[0mlabels\u001b[0m\u001b[0;34m,\u001b[0m \u001b[0mi\u001b[0m\u001b[0;34m)\u001b[0m\u001b[0;34m,\u001b[0m \u001b[0mtf\u001b[0m\u001b[0;34m.\u001b[0m\u001b[0mgather\u001b[0m\u001b[0;34m(\u001b[0m\u001b[0msamples\u001b[0m\u001b[0;34m,\u001b[0m \u001b[0mi\u001b[0m\u001b[0;34m)\u001b[0m\u001b[0;34m)\u001b[0m\u001b[0;34m)\u001b[0m\u001b[0;34m\u001b[0m\u001b[0m\n\u001b[0;32m---> 35\u001b[0;31m                 \u001b[0mweights\u001b[0m \u001b[0;34m=\u001b[0m \u001b[0msess\u001b[0m\u001b[0;34m.\u001b[0m\u001b[0mrun\u001b[0m\u001b[0;34m(\u001b[0m\u001b[0mw\u001b[0m\u001b[0;34m)\u001b[0m\u001b[0;34m\u001b[0m\u001b[0m\n\u001b[0m\u001b[1;32m     36\u001b[0m \u001b[0;34m\u001b[0m\u001b[0m\n\u001b[1;32m     37\u001b[0m             \u001b[0;32mif\u001b[0m \u001b[0miter\u001b[0m \u001b[0;34m%\u001b[0m \u001b[0;36m100\u001b[0m \u001b[0;34m==\u001b[0m \u001b[0;36m0\u001b[0m\u001b[0;34m:\u001b[0m\u001b[0;34m\u001b[0m\u001b[0m\n",
      "\u001b[0;32m/Users/yabouelnagah/anaconda/envs/tensorflow/lib/python3.5/site-packages/tensorflow/python/client/session.py\u001b[0m in \u001b[0;36mrun\u001b[0;34m(self, fetches, feed_dict, options, run_metadata)\u001b[0m\n\u001b[1;32m    338\u001b[0m     \u001b[0;32mtry\u001b[0m\u001b[0;34m:\u001b[0m\u001b[0;34m\u001b[0m\u001b[0m\n\u001b[1;32m    339\u001b[0m       result = self._run(None, fetches, feed_dict, options_ptr,\n\u001b[0;32m--> 340\u001b[0;31m                          run_metadata_ptr)\n\u001b[0m\u001b[1;32m    341\u001b[0m       \u001b[0;32mif\u001b[0m \u001b[0mrun_metadata\u001b[0m\u001b[0;34m:\u001b[0m\u001b[0;34m\u001b[0m\u001b[0m\n\u001b[1;32m    342\u001b[0m         \u001b[0mproto_data\u001b[0m \u001b[0;34m=\u001b[0m \u001b[0mtf_session\u001b[0m\u001b[0;34m.\u001b[0m\u001b[0mTF_GetBuffer\u001b[0m\u001b[0;34m(\u001b[0m\u001b[0mrun_metadata_ptr\u001b[0m\u001b[0;34m)\u001b[0m\u001b[0;34m\u001b[0m\u001b[0m\n",
      "\u001b[0;32m/Users/yabouelnagah/anaconda/envs/tensorflow/lib/python3.5/site-packages/tensorflow/python/client/session.py\u001b[0m in \u001b[0;36m_run\u001b[0;34m(self, handle, fetches, feed_dict, options, run_metadata)\u001b[0m\n\u001b[1;32m    562\u001b[0m     \u001b[0;32mtry\u001b[0m\u001b[0;34m:\u001b[0m\u001b[0;34m\u001b[0m\u001b[0m\n\u001b[1;32m    563\u001b[0m       results = self._do_run(handle, target_list, unique_fetches,\n\u001b[0;32m--> 564\u001b[0;31m                              feed_dict_string, options, run_metadata)\n\u001b[0m\u001b[1;32m    565\u001b[0m     \u001b[0;32mfinally\u001b[0m\u001b[0;34m:\u001b[0m\u001b[0;34m\u001b[0m\u001b[0m\n\u001b[1;32m    566\u001b[0m       \u001b[0;31m# The movers are no longer used. Delete them.\u001b[0m\u001b[0;34m\u001b[0m\u001b[0;34m\u001b[0m\u001b[0m\n",
      "\u001b[0;32m/Users/yabouelnagah/anaconda/envs/tensorflow/lib/python3.5/site-packages/tensorflow/python/client/session.py\u001b[0m in \u001b[0;36m_do_run\u001b[0;34m(self, handle, target_list, fetch_list, feed_dict, options, run_metadata)\u001b[0m\n\u001b[1;32m    635\u001b[0m     \u001b[0;32mif\u001b[0m \u001b[0mhandle\u001b[0m \u001b[0;32mis\u001b[0m \u001b[0;32mNone\u001b[0m\u001b[0;34m:\u001b[0m\u001b[0;34m\u001b[0m\u001b[0m\n\u001b[1;32m    636\u001b[0m       return self._do_call(_run_fn, self._session, feed_dict, fetch_list,\n\u001b[0;32m--> 637\u001b[0;31m                            target_list, options, run_metadata)\n\u001b[0m\u001b[1;32m    638\u001b[0m     \u001b[0;32melse\u001b[0m\u001b[0;34m:\u001b[0m\u001b[0;34m\u001b[0m\u001b[0m\n\u001b[1;32m    639\u001b[0m       return self._do_call(_prun_fn, self._session, handle, feed_dict,\n",
      "\u001b[0;32m/Users/yabouelnagah/anaconda/envs/tensorflow/lib/python3.5/site-packages/tensorflow/python/client/session.py\u001b[0m in \u001b[0;36m_do_call\u001b[0;34m(self, fn, *args)\u001b[0m\n\u001b[1;32m    642\u001b[0m   \u001b[0;32mdef\u001b[0m \u001b[0m_do_call\u001b[0m\u001b[0;34m(\u001b[0m\u001b[0mself\u001b[0m\u001b[0;34m,\u001b[0m \u001b[0mfn\u001b[0m\u001b[0;34m,\u001b[0m \u001b[0;34m*\u001b[0m\u001b[0margs\u001b[0m\u001b[0;34m)\u001b[0m\u001b[0;34m:\u001b[0m\u001b[0;34m\u001b[0m\u001b[0m\n\u001b[1;32m    643\u001b[0m     \u001b[0;32mtry\u001b[0m\u001b[0;34m:\u001b[0m\u001b[0;34m\u001b[0m\u001b[0m\n\u001b[0;32m--> 644\u001b[0;31m       \u001b[0;32mreturn\u001b[0m \u001b[0mfn\u001b[0m\u001b[0;34m(\u001b[0m\u001b[0;34m*\u001b[0m\u001b[0margs\u001b[0m\u001b[0;34m)\u001b[0m\u001b[0;34m\u001b[0m\u001b[0m\n\u001b[0m\u001b[1;32m    645\u001b[0m     \u001b[0;32mexcept\u001b[0m \u001b[0mtf_session\u001b[0m\u001b[0;34m.\u001b[0m\u001b[0mStatusNotOK\u001b[0m \u001b[0;32mas\u001b[0m \u001b[0me\u001b[0m\u001b[0;34m:\u001b[0m\u001b[0;34m\u001b[0m\u001b[0m\n\u001b[1;32m    646\u001b[0m       \u001b[0merror_message\u001b[0m \u001b[0;34m=\u001b[0m \u001b[0mcompat\u001b[0m\u001b[0;34m.\u001b[0m\u001b[0mas_text\u001b[0m\u001b[0;34m(\u001b[0m\u001b[0me\u001b[0m\u001b[0;34m.\u001b[0m\u001b[0merror_message\u001b[0m\u001b[0;34m)\u001b[0m\u001b[0;34m\u001b[0m\u001b[0m\n",
      "\u001b[0;32m/Users/yabouelnagah/anaconda/envs/tensorflow/lib/python3.5/site-packages/tensorflow/python/client/session.py\u001b[0m in \u001b[0;36m_run_fn\u001b[0;34m(session, feed_dict, fetch_list, target_list, options, run_metadata)\u001b[0m\n\u001b[1;32m    626\u001b[0m       \u001b[0;32melse\u001b[0m\u001b[0;34m:\u001b[0m\u001b[0;34m\u001b[0m\u001b[0m\n\u001b[1;32m    627\u001b[0m         return tf_session.TF_Run(\n\u001b[0;32m--> 628\u001b[0;31m             session, None, feed_dict, fetch_list, target_list, None)\n\u001b[0m\u001b[1;32m    629\u001b[0m \u001b[0;34m\u001b[0m\u001b[0m\n\u001b[1;32m    630\u001b[0m     \u001b[0;32mdef\u001b[0m \u001b[0m_prun_fn\u001b[0m\u001b[0;34m(\u001b[0m\u001b[0msession\u001b[0m\u001b[0;34m,\u001b[0m \u001b[0mhandle\u001b[0m\u001b[0;34m,\u001b[0m \u001b[0mfeed_dict\u001b[0m\u001b[0;34m,\u001b[0m \u001b[0mfetch_list\u001b[0m\u001b[0;34m)\u001b[0m\u001b[0;34m:\u001b[0m\u001b[0;34m\u001b[0m\u001b[0m\n",
      "\u001b[0;31mKeyboardInterrupt\u001b[0m: "
     ]
    }
   ],
   "source": [
    "calcNumberItersForConvergance(100, 10)"
   ]
  },
  {
   "cell_type": "code",
   "execution_count": null,
   "metadata": {
    "collapsed": true
   },
   "outputs": [],
   "source": [
    "sess.close()"
   ]
  }
 ],
 "metadata": {
  "kernelspec": {
   "display_name": "Python 3",
   "language": "python",
   "name": "python3"
  },
  "language_info": {
   "codemirror_mode": {
    "name": "ipython",
    "version": 3
   },
   "file_extension": ".py",
   "mimetype": "text/x-python",
   "name": "python",
   "nbconvert_exporter": "python",
   "pygments_lexer": "ipython3",
   "version": "3.5.1"
  }
 },
 "nbformat": 4,
 "nbformat_minor": 0
}
